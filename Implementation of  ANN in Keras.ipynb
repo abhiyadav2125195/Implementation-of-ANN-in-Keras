{
 "cells": [
  {
   "cell_type": "code",
   "execution_count": 47,
   "id": "ab694c8f-b565-4e41-bcc0-13471cdcb435",
   "metadata": {},
   "outputs": [
    {
     "name": "stdout",
     "output_type": "stream",
     "text": [
      "Requirement already satisfied: tensorflow in /opt/conda/lib/python3.10/site-packages (2.15.0)\n",
      "Requirement already satisfied: tensorflow-io-gcs-filesystem>=0.23.1 in /opt/conda/lib/python3.10/site-packages (from tensorflow) (0.34.0)\n",
      "Requirement already satisfied: typing-extensions>=3.6.6 in /opt/conda/lib/python3.10/site-packages (from tensorflow) (4.4.0)\n",
      "Requirement already satisfied: astunparse>=1.6.0 in /opt/conda/lib/python3.10/site-packages (from tensorflow) (1.6.3)\n",
      "Requirement already satisfied: packaging in /opt/conda/lib/python3.10/site-packages (from tensorflow) (22.0)\n",
      "Requirement already satisfied: numpy<2.0.0,>=1.23.5 in /opt/conda/lib/python3.10/site-packages (from tensorflow) (1.23.5)\n",
      "Requirement already satisfied: google-pasta>=0.1.1 in /opt/conda/lib/python3.10/site-packages (from tensorflow) (0.2.0)\n",
      "Requirement already satisfied: gast!=0.5.0,!=0.5.1,!=0.5.2,>=0.2.1 in /opt/conda/lib/python3.10/site-packages (from tensorflow) (0.5.4)\n",
      "Requirement already satisfied: grpcio<2.0,>=1.24.3 in /opt/conda/lib/python3.10/site-packages (from tensorflow) (1.59.3)\n",
      "Requirement already satisfied: protobuf!=4.21.0,!=4.21.1,!=4.21.2,!=4.21.3,!=4.21.4,!=4.21.5,<5.0.0dev,>=3.20.3 in /opt/conda/lib/python3.10/site-packages (from tensorflow) (4.21.11)\n",
      "Requirement already satisfied: opt-einsum>=2.3.2 in /opt/conda/lib/python3.10/site-packages (from tensorflow) (3.3.0)\n",
      "Requirement already satisfied: libclang>=13.0.0 in /opt/conda/lib/python3.10/site-packages (from tensorflow) (16.0.6)\n",
      "Requirement already satisfied: flatbuffers>=23.5.26 in /opt/conda/lib/python3.10/site-packages (from tensorflow) (23.5.26)\n",
      "Requirement already satisfied: termcolor>=1.1.0 in /opt/conda/lib/python3.10/site-packages (from tensorflow) (2.3.0)\n",
      "Requirement already satisfied: six>=1.12.0 in /opt/conda/lib/python3.10/site-packages (from tensorflow) (1.16.0)\n",
      "Requirement already satisfied: tensorflow-estimator<2.16,>=2.15.0 in /opt/conda/lib/python3.10/site-packages (from tensorflow) (2.15.0)\n",
      "Requirement already satisfied: keras<2.16,>=2.15.0 in /opt/conda/lib/python3.10/site-packages (from tensorflow) (2.15.0)\n",
      "Requirement already satisfied: setuptools in /opt/conda/lib/python3.10/site-packages (from tensorflow) (65.5.1)\n",
      "Requirement already satisfied: wrapt<1.15,>=1.11.0 in /opt/conda/lib/python3.10/site-packages (from tensorflow) (1.14.1)\n",
      "Requirement already satisfied: ml-dtypes~=0.2.0 in /opt/conda/lib/python3.10/site-packages (from tensorflow) (0.2.0)\n",
      "Requirement already satisfied: h5py>=2.9.0 in /opt/conda/lib/python3.10/site-packages (from tensorflow) (3.7.0)\n",
      "Requirement already satisfied: absl-py>=1.0.0 in /opt/conda/lib/python3.10/site-packages (from tensorflow) (2.0.0)\n",
      "Requirement already satisfied: tensorboard<2.16,>=2.15 in /opt/conda/lib/python3.10/site-packages (from tensorflow) (2.15.1)\n",
      "Requirement already satisfied: wheel<1.0,>=0.23.0 in /opt/conda/lib/python3.10/site-packages (from astunparse>=1.6.0->tensorflow) (0.38.4)\n",
      "Requirement already satisfied: google-auth-oauthlib<2,>=0.5 in /opt/conda/lib/python3.10/site-packages (from tensorboard<2.16,>=2.15->tensorflow) (1.1.0)\n",
      "Requirement already satisfied: requests<3,>=2.21.0 in /opt/conda/lib/python3.10/site-packages (from tensorboard<2.16,>=2.15->tensorflow) (2.28.1)\n",
      "Requirement already satisfied: tensorboard-data-server<0.8.0,>=0.7.0 in /opt/conda/lib/python3.10/site-packages (from tensorboard<2.16,>=2.15->tensorflow) (0.7.2)\n",
      "Requirement already satisfied: werkzeug>=1.0.1 in /opt/conda/lib/python3.10/site-packages (from tensorboard<2.16,>=2.15->tensorflow) (3.0.1)\n",
      "Requirement already satisfied: markdown>=2.6.8 in /opt/conda/lib/python3.10/site-packages (from tensorboard<2.16,>=2.15->tensorflow) (3.5.1)\n",
      "Requirement already satisfied: google-auth<3,>=1.6.3 in /opt/conda/lib/python3.10/site-packages (from tensorboard<2.16,>=2.15->tensorflow) (2.23.4)\n",
      "Requirement already satisfied: rsa<5,>=3.1.4 in /opt/conda/lib/python3.10/site-packages (from google-auth<3,>=1.6.3->tensorboard<2.16,>=2.15->tensorflow) (4.9)\n",
      "Requirement already satisfied: pyasn1-modules>=0.2.1 in /opt/conda/lib/python3.10/site-packages (from google-auth<3,>=1.6.3->tensorboard<2.16,>=2.15->tensorflow) (0.3.0)\n",
      "Requirement already satisfied: cachetools<6.0,>=2.0.0 in /opt/conda/lib/python3.10/site-packages (from google-auth<3,>=1.6.3->tensorboard<2.16,>=2.15->tensorflow) (5.3.2)\n",
      "Requirement already satisfied: requests-oauthlib>=0.7.0 in /opt/conda/lib/python3.10/site-packages (from google-auth-oauthlib<2,>=0.5->tensorboard<2.16,>=2.15->tensorflow) (1.3.1)\n",
      "Requirement already satisfied: idna<4,>=2.5 in /opt/conda/lib/python3.10/site-packages (from requests<3,>=2.21.0->tensorboard<2.16,>=2.15->tensorflow) (3.4)\n",
      "Requirement already satisfied: charset-normalizer<3,>=2 in /opt/conda/lib/python3.10/site-packages (from requests<3,>=2.21.0->tensorboard<2.16,>=2.15->tensorflow) (2.1.1)\n",
      "Requirement already satisfied: certifi>=2017.4.17 in /opt/conda/lib/python3.10/site-packages (from requests<3,>=2.21.0->tensorboard<2.16,>=2.15->tensorflow) (2022.12.7)\n",
      "Requirement already satisfied: urllib3<1.27,>=1.21.1 in /opt/conda/lib/python3.10/site-packages (from requests<3,>=2.21.0->tensorboard<2.16,>=2.15->tensorflow) (1.26.13)\n",
      "Requirement already satisfied: MarkupSafe>=2.1.1 in /opt/conda/lib/python3.10/site-packages (from werkzeug>=1.0.1->tensorboard<2.16,>=2.15->tensorflow) (2.1.1)\n",
      "Requirement already satisfied: pyasn1<0.6.0,>=0.4.6 in /opt/conda/lib/python3.10/site-packages (from pyasn1-modules>=0.2.1->google-auth<3,>=1.6.3->tensorboard<2.16,>=2.15->tensorflow) (0.5.1)\n",
      "Requirement already satisfied: oauthlib>=3.0.0 in /opt/conda/lib/python3.10/site-packages (from requests-oauthlib>=0.7.0->google-auth-oauthlib<2,>=0.5->tensorboard<2.16,>=2.15->tensorflow) (3.2.2)\n",
      "Note: you may need to restart the kernel to use updated packages.\n"
     ]
    }
   ],
   "source": [
    "pip install tensorflow"
   ]
  },
  {
   "cell_type": "code",
   "execution_count": 48,
   "id": "ad27d8c5-b8c2-44fe-a41a-f4261324ec39",
   "metadata": {},
   "outputs": [],
   "source": [
    "import tensorflow as tf\n",
    "import numpy as np\n",
    "import pandas as pd\n",
    "import matplotlib.pyplot as plt\n",
    "from tensorflow.keras.models import Sequential\n",
    "from tensorflow.keras.layers import Dense\n",
    "from tensorflow.keras.callbacks import EarlyStopping\n",
    "from sklearn.model_selection import train_test_split\n",
    "import seaborn as sns"
   ]
  },
  {
   "cell_type": "code",
   "execution_count": 49,
   "id": "3d52f7b3-0fd9-41b6-9ecb-e8a44894d643",
   "metadata": {},
   "outputs": [],
   "source": [
    "df = pd.read_csv(\"wine.csv\")"
   ]
  },
  {
   "cell_type": "code",
   "execution_count": 50,
   "id": "f7bad7fc-5ab3-4e73-8e43-b8873feb11f8",
   "metadata": {},
   "outputs": [
    {
     "data": {
      "text/plain": [
       "(1599, 12)"
      ]
     },
     "execution_count": 50,
     "metadata": {},
     "output_type": "execute_result"
    }
   ],
   "source": [
    "df.shape"
   ]
  },
  {
   "cell_type": "code",
   "execution_count": 51,
   "id": "2927f886-24d3-4115-af83-7219240c1fee",
   "metadata": {},
   "outputs": [],
   "source": [
    "x = df.drop(\"quality\",axis=1)\n",
    "y = df[\"quality\"]"
   ]
  },
  {
   "cell_type": "code",
   "execution_count": 52,
   "id": "c5a53e2a-69ca-422e-ac04-4117b3ff2784",
   "metadata": {},
   "outputs": [
    {
     "name": "stdout",
     "output_type": "stream",
     "text": [
      "<class 'pandas.core.frame.DataFrame'>\n",
      "RangeIndex: 1599 entries, 0 to 1598\n",
      "Data columns (total 12 columns):\n",
      " #   Column                Non-Null Count  Dtype  \n",
      "---  ------                --------------  -----  \n",
      " 0   fixed acidity         1599 non-null   float64\n",
      " 1   volatile acidity      1599 non-null   float64\n",
      " 2   citric acid           1599 non-null   float64\n",
      " 3   residual sugar        1599 non-null   float64\n",
      " 4   chlorides             1599 non-null   float64\n",
      " 5   free sulfur dioxide   1599 non-null   float64\n",
      " 6   total sulfur dioxide  1599 non-null   float64\n",
      " 7   density               1599 non-null   float64\n",
      " 8   pH                    1599 non-null   float64\n",
      " 9   sulphates             1599 non-null   float64\n",
      " 10  alcohol               1599 non-null   float64\n",
      " 11  quality               1599 non-null   object \n",
      "dtypes: float64(11), object(1)\n",
      "memory usage: 150.0+ KB\n"
     ]
    }
   ],
   "source": [
    "df.info()"
   ]
  },
  {
   "cell_type": "code",
   "execution_count": 53,
   "id": "ebda84bd-394a-47ea-a156-d1e209e937d7",
   "metadata": {},
   "outputs": [],
   "source": [
    "x_train,x_temp,y_train,y_temp = train_test_split(x,y,test_size=0.3,random_state=42)\n",
    "x_test,x_valid,y_test,y_valid = train_test_split(x_temp,y_temp,test_size=0.5,random_state=42)"
   ]
  },
  {
   "cell_type": "code",
   "execution_count": 54,
   "id": "edd0d076-5959-43ae-8fef-037eef618d6d",
   "metadata": {},
   "outputs": [],
   "source": [
    "y_train = y_train.map({\"good\" : 1,\"bad\" : 0})\n",
    "y_test = y_test.map({\"good\" : 1 , \"bad\" : 0})\n",
    "y_valid = y_valid.map({\"good\" : 1 , \"bad\" : 0})"
   ]
  },
  {
   "cell_type": "code",
   "execution_count": 60,
   "id": "f7f73ef8-4f45-4178-93ad-de622198409b",
   "metadata": {},
   "outputs": [],
   "source": [
    "from sklearn.preprocessing import StandardScaler\n",
    "scaler = StandardScaler()\n",
    "x_train_scaled = scaler.fit_transform(x_train)\n",
    "x_test_scaled = scaler.transform(x_test)"
   ]
  },
  {
   "cell_type": "code",
   "execution_count": 61,
   "id": "89d90e4f-ff4d-4938-864f-439e785b9edf",
   "metadata": {},
   "outputs": [
    {
     "name": "stdout",
     "output_type": "stream",
     "text": [
      "Model: \"sequential_7\"\n",
      "_________________________________________________________________\n",
      " Layer (type)                Output Shape              Param #   \n",
      "=================================================================\n",
      " dense_18 (Dense)            (None, 64)                768       \n",
      "                                                                 \n",
      " dense_19 (Dense)            (None, 32)                2080      \n",
      "                                                                 \n",
      " dense_20 (Dense)            (None, 1)                 33        \n",
      "                                                                 \n",
      "=================================================================\n",
      "Total params: 2881 (11.25 KB)\n",
      "Trainable params: 2881 (11.25 KB)\n",
      "Non-trainable params: 0 (0.00 Byte)\n",
      "_________________________________________________________________\n"
     ]
    }
   ],
   "source": [
    "model = Sequential()\n",
    "model.add(Dense(64, activation=\"relu\", input_dim=x_train.shape[1]))\n",
    "model.add(Dense(32,activation=\"relu\"))\n",
    "model.add(Dense(1 , activation=\"sigmoid\"))\n",
    "\n",
    "model.summary()  "
   ]
  },
  {
   "cell_type": "code",
   "execution_count": 62,
   "id": "5c7edf26-4691-43c9-aff0-56c45d7ed291",
   "metadata": {},
   "outputs": [],
   "source": [
    "model.compile(loss=\"binary_crossentropy\", optimizer=\"adam\",metrics=[\"accuracy\"])"
   ]
  },
  {
   "cell_type": "code",
   "execution_count": 65,
   "id": "825dcdb1-976e-4ba7-9b45-a9c5456db532",
   "metadata": {},
   "outputs": [
    {
     "name": "stdout",
     "output_type": "stream",
     "text": [
      "Epoch 1/20\n",
      "35/35 [==============================] - 0s 10ms/step - loss: 0.5120 - accuracy: 0.7632 - val_loss: 4.6079 - val_accuracy: 0.5417\n",
      "Epoch 2/20\n",
      "35/35 [==============================] - 0s 3ms/step - loss: 0.4996 - accuracy: 0.7516 - val_loss: 6.7043 - val_accuracy: 0.5375\n",
      "Epoch 3/20\n",
      "35/35 [==============================] - 0s 3ms/step - loss: 0.4898 - accuracy: 0.7650 - val_loss: 6.2469 - val_accuracy: 0.5417\n",
      "Epoch 4/20\n",
      "35/35 [==============================] - 0s 3ms/step - loss: 0.4827 - accuracy: 0.7685 - val_loss: 7.7450 - val_accuracy: 0.5208\n",
      "Epoch 5/20\n",
      "35/35 [==============================] - 0s 3ms/step - loss: 0.4779 - accuracy: 0.7685 - val_loss: 7.8468 - val_accuracy: 0.5167\n",
      "Epoch 6/20\n",
      "35/35 [==============================] - 0s 3ms/step - loss: 0.4710 - accuracy: 0.7757 - val_loss: 8.2325 - val_accuracy: 0.5208\n",
      "Epoch 7/20\n",
      "35/35 [==============================] - 0s 3ms/step - loss: 0.4670 - accuracy: 0.7775 - val_loss: 7.5663 - val_accuracy: 0.5292\n",
      "Epoch 8/20\n",
      "35/35 [==============================] - 0s 3ms/step - loss: 0.4631 - accuracy: 0.7793 - val_loss: 8.1280 - val_accuracy: 0.5208\n",
      "Epoch 9/20\n",
      "35/35 [==============================] - 0s 3ms/step - loss: 0.4564 - accuracy: 0.7802 - val_loss: 8.7248 - val_accuracy: 0.5208\n",
      "Epoch 10/20\n",
      "35/35 [==============================] - 0s 3ms/step - loss: 0.4552 - accuracy: 0.7793 - val_loss: 7.9649 - val_accuracy: 0.5208\n",
      "Epoch 11/20\n",
      "35/35 [==============================] - 0s 3ms/step - loss: 0.4499 - accuracy: 0.7864 - val_loss: 9.8561 - val_accuracy: 0.5208\n",
      "Epoch 12/20\n",
      "35/35 [==============================] - 0s 3ms/step - loss: 0.4451 - accuracy: 0.7775 - val_loss: 9.8034 - val_accuracy: 0.5208\n",
      "Epoch 13/20\n",
      "35/35 [==============================] - 0s 3ms/step - loss: 0.4453 - accuracy: 0.7819 - val_loss: 11.2351 - val_accuracy: 0.5167\n",
      "Epoch 14/20\n",
      "35/35 [==============================] - 0s 3ms/step - loss: 0.4406 - accuracy: 0.7909 - val_loss: 10.9242 - val_accuracy: 0.5125\n",
      "Epoch 15/20\n",
      "35/35 [==============================] - 0s 3ms/step - loss: 0.4372 - accuracy: 0.7864 - val_loss: 10.1620 - val_accuracy: 0.5208\n",
      "Epoch 16/20\n",
      "35/35 [==============================] - 0s 3ms/step - loss: 0.4332 - accuracy: 0.7891 - val_loss: 11.2096 - val_accuracy: 0.5167\n",
      "Epoch 17/20\n",
      "35/35 [==============================] - 0s 3ms/step - loss: 0.4309 - accuracy: 0.7918 - val_loss: 10.7677 - val_accuracy: 0.5167\n",
      "Epoch 18/20\n",
      "35/35 [==============================] - 0s 3ms/step - loss: 0.4277 - accuracy: 0.7882 - val_loss: 10.7826 - val_accuracy: 0.5208\n",
      "Epoch 19/20\n",
      "35/35 [==============================] - 0s 3ms/step - loss: 0.4223 - accuracy: 0.7962 - val_loss: 11.2035 - val_accuracy: 0.5208\n",
      "Epoch 20/20\n",
      "35/35 [==============================] - 0s 3ms/step - loss: 0.4206 - accuracy: 0.7909 - val_loss: 9.8213 - val_accuracy: 0.5250\n"
     ]
    }
   ],
   "source": [
    "history = model.fit(x_train_scaled,y_train,epochs=20,validation_data=(x_valid,y_valid))"
   ]
  },
  {
   "cell_type": "code",
   "execution_count": 67,
   "id": "cfc9741e-486d-4333-856a-b5b174abf85c",
   "metadata": {},
   "outputs": [],
   "source": [
    "model_param = model.get_weights()"
   ]
  },
  {
   "cell_type": "code",
   "execution_count": 68,
   "id": "25cdcbc8-d046-4e08-8844-95e57b7036b9",
   "metadata": {},
   "outputs": [],
   "source": [
    "history_df = pd.DataFrame(history.history)"
   ]
  },
  {
   "cell_type": "code",
   "execution_count": null,
   "id": "58358ccf-f7dc-4b43-91aa-20c0529c8d61",
   "metadata": {},
   "outputs": [],
   "source": [
    "plt.plot(history_df[\"accuracy\"], label=\"Accuracy\")\n",
    "plt.plot(history_df[\"val_accuracy\"],label=\"validation accuracy\")\n",
    "plt.plot(history_df[\"loss\"],label=\"loss\")\n",
    "plt.plot(history_df[\"val_loss\"],label=\"validation loss\")\n"
   ]
  },
  {
   "cell_type": "code",
   "execution_count": null,
   "id": "a58616a0-b2a1-4208-a252-c06d68e637ef",
   "metadata": {},
   "outputs": [],
   "source": []
  }
 ],
 "metadata": {
  "kernelspec": {
   "display_name": "Python 3 (ipykernel)",
   "language": "python",
   "name": "python3"
  },
  "language_info": {
   "codemirror_mode": {
    "name": "ipython",
    "version": 3
   },
   "file_extension": ".py",
   "mimetype": "text/x-python",
   "name": "python",
   "nbconvert_exporter": "python",
   "pygments_lexer": "ipython3",
   "version": "3.10.8"
  }
 },
 "nbformat": 4,
 "nbformat_minor": 5
}
